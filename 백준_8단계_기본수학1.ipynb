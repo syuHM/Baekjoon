{
 "cells": [
  {
   "cell_type": "code",
   "execution_count": 1,
   "id": "42a27bde",
   "metadata": {},
   "outputs": [
    {
     "name": "stdout",
     "output_type": "stream",
     "text": [
      "1000 70 170\n",
      "11\n"
     ]
    }
   ],
   "source": [
    "#손익분기점(A:고정비용,B:가변비용,C:노트북가격)\n",
    "#반복문 사용 시 시간 초과\n",
    "a, b, c = map(int, input().split())\n",
    "\n",
    "if b >= c:\n",
    "    print(-1)\n",
    "else:\n",
    "    print(int(a/(c-b)) + 1) #총 수입이 총 비용보다 많아지기 위해 +1"
   ]
  },
  {
   "cell_type": "code",
   "execution_count": 2,
   "id": "3f52c7e4",
   "metadata": {},
   "outputs": [
    {
     "name": "stdout",
     "output_type": "stream",
     "text": [
      "13\n",
      "3\n"
     ]
    }
   ],
   "source": [
    "#벌집\n",
    "N = int(input())\n",
    "B = 1 #벌집의 숫자\n",
    "R = 1 #지나가야 하는 방의 수\n",
    "while N > B: #입력받은 수가 벌집의 숫자보다 작아질때까지 반복\n",
    "    B += R*6 #벌집의 숫자는 6의 배수로 증가\n",
    "    R += 1\n",
    "print(R)"
   ]
  },
  {
   "cell_type": "code",
   "execution_count": 3,
   "id": "c010ffc4",
   "metadata": {},
   "outputs": [
    {
     "name": "stdout",
     "output_type": "stream",
     "text": [
      "2\n",
      "1/2\n"
     ]
    }
   ],
   "source": [
    "#분수찾기\n",
    "#분자나 분모에 그 줄이 몇번째인지 알려줌.(지그재그)\n",
    "X = int(input())\n",
    "num = 0\n",
    "i = 0\n",
    "while num < X:\n",
    "    i += 1\n",
    "    num += i\n",
    "if i % 2 == 0: #짝수번째 대각선 그룹\n",
    "    j = i + X - num\n",
    "    m = 1 + num - X\n",
    "else: #홀수번째 대각선 그룹\n",
    "    j = 1 + num - X\n",
    "    m = i + X - num\n",
    "print(str(j) + \"/\" + str(m))"
   ]
  },
  {
   "cell_type": "code",
   "execution_count": 4,
   "id": "bad5c33f",
   "metadata": {},
   "outputs": [
    {
     "name": "stdout",
     "output_type": "stream",
     "text": [
      "2 1 5\n",
      "4\n"
     ]
    }
   ],
   "source": [
    "#달팽이는 올라가고 싶다.\n",
    "a, b, v = map(int, input().split())\n",
    "day = 0\n",
    "i = 0\n",
    "\n",
    "if a >= v:\n",
    "    i = 1\n",
    "else:\n",
    "    if (v-a) % (a-b) != 0:\n",
    "        i = (v-a) // (a-b) + 2 #위에서 나눴을 때 나머지가 생길 경우 하루 더 필요\n",
    "    else:\n",
    "        i = (v-a) // (a-b) + 1 #마지막 날은 미끄러지지 않고 끝나기 때문에 하루 더 더해줌.\n",
    "print(i)"
   ]
  },
  {
   "cell_type": "code",
   "execution_count": 5,
   "id": "a67274eb",
   "metadata": {},
   "outputs": [
    {
     "name": "stdout",
     "output_type": "stream",
     "text": [
      "1\n",
      "6 12 10\n",
      "402\n"
     ]
    }
   ],
   "source": [
    "#ACM 호텔\n",
    "#손님은 입구와 가장 가까운 방을 선호(엘레베이터타는 거리는 신경쓰지 않음, 걷는 거리가 같으면 아래층 선호)\n",
    "t = int(input())\n",
    "\n",
    "for i in range(t):                    \n",
    "    a,b,c = map(int, input().split())     # a=높이,b=너비,c=n번째 손님\n",
    "    if c%a == 0:                          # 만약 손님이 높이와 나누어 떨어진다면 방번호는 +1을 하면\n",
    "        if c//a > 9:                      # 방번호를 벗어난다. 몫이 9이상이면 0은 삭제\n",
    "            print(a,(c//a),sep=\"\")\n",
    "        else:\n",
    "            print(a,\"0\",(c//a),sep=\"\")\n",
    "    else:                    \n",
    "        if c//a >= 9:                     # 몫이 9이상이면 0은 삭제\n",
    "            print(c%a,(c//a)+1,sep=\"\")\n",
    "        else:\n",
    "            print(c%a,\"0\",(c//a)+1,sep=\"\")"
   ]
  },
  {
   "cell_type": "code",
   "execution_count": 6,
   "id": "156b3c6e",
   "metadata": {},
   "outputs": [
    {
     "name": "stdout",
     "output_type": "stream",
     "text": [
      "2\n",
      "1\n",
      "3\n",
      "6\n",
      "2\n",
      "3\n",
      "10\n"
     ]
    }
   ],
   "source": [
    "#부녀회장이 될테야\n",
    "T = int(input())\n",
    "for i in range(T):\n",
    "    floor = int(input())\n",
    "    room = int(input())\n",
    "    people = [j for j in range(1, room+1)]\n",
    "    for k in range(floor): #주어진 호수까지 0층 리스트를 만들고, 주어진 층까지 계속 더해가며 리스트를 바꿈.\n",
    "        for v in range(room-1):\n",
    "            people[v+1] += people[v]\n",
    "    print(people[-1])"
   ]
  },
  {
   "cell_type": "code",
   "execution_count": 7,
   "id": "330c977d",
   "metadata": {},
   "outputs": [
    {
     "name": "stdout",
     "output_type": "stream",
     "text": [
      "18\n",
      "4\n"
     ]
    }
   ],
   "source": [
    "#설탕배달\n",
    "kg = int(input())          \n",
    "cnt = 0      \n",
    "while kg >= 0:            \n",
    "    if kg % 5 == 0: #5의 배수일 경우 바로 출력\n",
    "        print(kg // 5 + cnt)  \n",
    "        break                \n",
    "    else: #5의 배수가 아닐 경우 설탕 3키로 봉투를 하나씩 만듦\n",
    "        kg = kg - 3          \n",
    "        cnt += 1        \n",
    "else:\n",
    "    print(-1)              # 다 돌았는데도 없을 경우 -1"
   ]
  },
  {
   "cell_type": "code",
   "execution_count": 8,
   "id": "c1566ea6",
   "metadata": {},
   "outputs": [
    {
     "name": "stdout",
     "output_type": "stream",
     "text": [
      "4852248125 784215595\n",
      "5636463720\n"
     ]
    }
   ],
   "source": [
    "#큰 수 A+B\n",
    "a,b = map(int, input().split())\n",
    "print(a+b)"
   ]
  },
  {
   "cell_type": "code",
   "execution_count": 9,
   "id": "c4dd249e",
   "metadata": {},
   "outputs": [
    {
     "name": "stdout",
     "output_type": "stream",
     "text": [
      "2\n",
      "0 3\n",
      "3\n",
      "1 5\n",
      "3\n"
     ]
    }
   ],
   "source": [
    "#Fly me to the Alpha Centauri\n",
    "t = int(input())\n",
    "for i in range(t):\n",
    "    x,y = map(int,input().split())\n",
    "\n",
    "    distance = y-x\n",
    "    count = 0 # 총 카운트\n",
    "    full = 1 # 이동가능 최대속도, 디폴트 1\n",
    "\n",
    "    while distance > 0: # 거리가 0보다 작아지면 break\n",
    "        count += 1 # 사용시 1증가\n",
    "        distance -= full #풀파워로 이동\n",
    "        if count%2 == 0: #왕복 염두해서 2의 배수시 최고속도 1증가\n",
    "            full += 1\n",
    "    print(count)"
   ]
  },
  {
   "cell_type": "code",
   "execution_count": null,
   "id": "fb54fa69",
   "metadata": {},
   "outputs": [],
   "source": []
  }
 ],
 "metadata": {
  "kernelspec": {
   "display_name": "Python 3",
   "language": "python",
   "name": "python3"
  },
  "language_info": {
   "codemirror_mode": {
    "name": "ipython",
    "version": 3
   },
   "file_extension": ".py",
   "mimetype": "text/x-python",
   "name": "python",
   "nbconvert_exporter": "python",
   "pygments_lexer": "ipython3",
   "version": "3.8.8"
  }
 },
 "nbformat": 4,
 "nbformat_minor": 5
}
