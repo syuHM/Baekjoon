{
 "cells": [
  {
   "cell_type": "code",
   "execution_count": 3,
   "id": "f606575b",
   "metadata": {},
   "outputs": [
    {
     "name": "stdout",
     "output_type": "stream",
     "text": [
      "4 5\n",
      "9\n",
      "0 0\n"
     ]
    }
   ],
   "source": [
    "#A+B-5\n",
    "while True:\n",
    "    A, B = map(int, input().split())\n",
    "    if A == 0 and B == 0:\n",
    "        break\n",
    "    print(A+B)"
   ]
  },
  {
   "cell_type": "code",
   "execution_count": 4,
   "id": "cbaf5672",
   "metadata": {},
   "outputs": [
    {
     "name": "stdout",
     "output_type": "stream",
     "text": [
      "4 5\n",
      "9\n",
      "0\n"
     ]
    }
   ],
   "source": [
    "#A+B-4\n",
    "while True:\n",
    "    try:\n",
    "        A, B = map(int, input().split())\n",
    "        print(A+B)\n",
    "    except:\n",
    "        break"
   ]
  },
  {
   "cell_type": "code",
   "execution_count": 1,
   "id": "126ad0a7",
   "metadata": {},
   "outputs": [
    {
     "name": "stdout",
     "output_type": "stream",
     "text": [
      "26\n",
      "4\n"
     ]
    }
   ],
   "source": [
    "#더하기 사이클\n",
    "count = 0\n",
    "N = M = int(input())\n",
    "while True:\n",
    "    A = N // 10\n",
    "    B = N % 10\n",
    "    N = int((N % 10) * 10) + int((A + B) % 10)\n",
    "    count += 1\n",
    "    if (M == N):\n",
    "        break\n",
    "print(count)"
   ]
  },
  {
   "cell_type": "code",
   "execution_count": null,
   "id": "a411c275",
   "metadata": {},
   "outputs": [],
   "source": []
  }
 ],
 "metadata": {
  "kernelspec": {
   "display_name": "Python 3",
   "language": "python",
   "name": "python3"
  },
  "language_info": {
   "codemirror_mode": {
    "name": "ipython",
    "version": 3
   },
   "file_extension": ".py",
   "mimetype": "text/x-python",
   "name": "python",
   "nbconvert_exporter": "python",
   "pygments_lexer": "ipython3",
   "version": "3.8.8"
  }
 },
 "nbformat": 4,
 "nbformat_minor": 5
}
