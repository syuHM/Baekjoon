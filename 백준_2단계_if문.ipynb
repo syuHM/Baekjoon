{
 "cells": [
  {
   "cell_type": "code",
   "execution_count": 1,
   "id": "b495a042",
   "metadata": {},
   "outputs": [
    {
     "name": "stdout",
     "output_type": "stream",
     "text": [
      "50 40\n",
      ">\n"
     ]
    }
   ],
   "source": [
    "#두 수 비교하기\n",
    "A,B = input().split()\n",
    "A = int(A)\n",
    "B = int(B)\n",
    "if (A>B):\n",
    "    print('>')\n",
    "elif (A<B):\n",
    "    print('<')\n",
    "else:\n",
    "    print('==')"
   ]
  },
  {
   "cell_type": "code",
   "execution_count": 2,
   "id": "1a0400bc",
   "metadata": {},
   "outputs": [
    {
     "name": "stdout",
     "output_type": "stream",
     "text": [
      "75\n",
      "C\n"
     ]
    }
   ],
   "source": [
    "#시험 성적\n",
    "score = int(input())\n",
    "0 <= score <= 100\n",
    "if score >=90:\n",
    "    print('A')\n",
    "elif score >= 80:\n",
    "    print('B')\n",
    "elif score >= 70:\n",
    "    print('C')\n",
    "elif score >= 60:\n",
    "    print('D')\n",
    "else:\n",
    "    print('F')"
   ]
  },
  {
   "cell_type": "code",
   "execution_count": 3,
   "id": "68cacc51",
   "metadata": {},
   "outputs": [
    {
     "name": "stdout",
     "output_type": "stream",
     "text": [
      "4008\n",
      "1\n"
     ]
    }
   ],
   "source": [
    "#윤년\n",
    "year = int(input())\n",
    "if (year%4 == 0) and (year%100 != 0) or (year%400 == 0):\n",
    "    print('1')\n",
    "else:\n",
    "    print('0')"
   ]
  },
  {
   "cell_type": "code",
   "execution_count": 4,
   "id": "f80de62c",
   "metadata": {},
   "outputs": [
    {
     "name": "stdout",
     "output_type": "stream",
     "text": [
      "4\n",
      "5\n",
      "1\n"
     ]
    }
   ],
   "source": [
    "#사분면 고르기\n",
    "x = int(input())\n",
    "y = int(input())\n",
    "if x>0 and y>0:\n",
    "    print(1)\n",
    "elif x<0 and y>0:\n",
    "    print(2)\n",
    "elif x<0 and y<0:\n",
    "    print(3)\n",
    "elif x>0 and y<0:\n",
    "    print(4)"
   ]
  },
  {
   "cell_type": "code",
   "execution_count": 5,
   "id": "80179dff",
   "metadata": {},
   "outputs": [
    {
     "name": "stdout",
     "output_type": "stream",
     "text": [
      "12 50\n",
      "12 5\n"
     ]
    }
   ],
   "source": [
    "#알람 시계\n",
    "h,m = input().split()\n",
    "h = int(h)\n",
    "m = int(m)\n",
    "if m >= 45:\n",
    "    print(h, m-45)\n",
    "else:\n",
    "    if h == 0:\n",
    "        print(23, 15+m)\n",
    "    else:\n",
    "        print(h-1, 15+m)"
   ]
  },
  {
   "cell_type": "code",
   "execution_count": null,
   "id": "383bc470",
   "metadata": {},
   "outputs": [],
   "source": []
  }
 ],
 "metadata": {
  "kernelspec": {
   "display_name": "Python 3",
   "language": "python",
   "name": "python3"
  },
  "language_info": {
   "codemirror_mode": {
    "name": "ipython",
    "version": 3
   },
   "file_extension": ".py",
   "mimetype": "text/x-python",
   "name": "python",
   "nbconvert_exporter": "python",
   "pygments_lexer": "ipython3",
   "version": "3.8.8"
  }
 },
 "nbformat": 4,
 "nbformat_minor": 5
}
