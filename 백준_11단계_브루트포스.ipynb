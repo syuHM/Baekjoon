{
 "cells": [
  {
   "cell_type": "code",
   "execution_count": 4,
   "id": "79b5572d",
   "metadata": {},
   "outputs": [
    {
     "name": "stdout",
     "output_type": "stream",
     "text": [
      "5 21\n",
      "5 6 7 8 9\n",
      "21\n"
     ]
    }
   ],
   "source": [
    "#블랙잭\n",
    "n, m = map(int, input().split()) #카드의 개수\n",
    "num = list(map(int, input().split())) #카드에 쓰인 수\n",
    "ans = 0\n",
    "for i in range(len(num)): #1번 카드\n",
    "    for j in range(i+1, len(num)): #2번 카드\n",
    "        for k in range(j+1, len(num)): #3번 카드\n",
    "            sum = num[i] + num[j] + num[k]\n",
    "            if sum <= m: #3장의 합이 m을 넘지 않을 경우\n",
    "                ans = max(ans, sum)\n",
    "print(ans)"
   ]
  },
  {
   "cell_type": "code",
   "execution_count": 2,
   "id": "a8e212e9",
   "metadata": {},
   "outputs": [
    {
     "name": "stdout",
     "output_type": "stream",
     "text": [
      "134\n",
      "130\n"
     ]
    }
   ],
   "source": [
    "#분해합\n",
    "n = int(input())\n",
    "n_list = 0\n",
    "result = 0\n",
    "for i in range(1, n+1):\n",
    "    n_list = list(map(int, str(i)))\n",
    "    result = i + sum(n_list)\n",
    "    if result == n:\n",
    "        print(i)\n",
    "        break\n",
    "    if i == n:\n",
    "        print(0)"
   ]
  },
  {
   "cell_type": "code",
   "execution_count": 11,
   "id": "6ac124c0",
   "metadata": {},
   "outputs": [
    {
     "name": "stdout",
     "output_type": "stream",
     "text": [
      "5\n",
      "55 185\n",
      "58 183\n",
      "88 186\n",
      "60 175\n",
      "46 155\n",
      "2\n",
      "2\n",
      "1\n",
      "2\n",
      "5\n"
     ]
    }
   ],
   "source": [
    "#덩치\n",
    "#자신보다 더 큰 덩치의 사람이 k명이라면 그 사람의 덩치 등수는 k+1\n",
    "n = int(input())\n",
    "n_list = []\n",
    "for i in range(n): #키, 몸무게 입력받고 리스트로 저장\n",
    "    x , y = map(int, input().split())\n",
    "    n_list.append([x , y])\n",
    "for i in n_list:\n",
    "    grade = 1\n",
    "    for j in n_list:\n",
    "        if i[0] < j[0] and i[1] < j[1]: #덩치가 크면 등수를 늘림\n",
    "            grade += 1\n",
    "    print(grade)"
   ]
  },
  {
   "cell_type": "code",
   "execution_count": 1,
   "id": "358c86bc",
   "metadata": {},
   "outputs": [
    {
     "name": "stdout",
     "output_type": "stream",
     "text": [
      "8 8\n",
      "WBWBWBWB\n",
      "BWBWBWBW\n",
      "WBWBWBWB\n",
      "BWBBBWBW\n",
      "WBWBWBWB\n",
      "BWBWBWBW\n",
      "WBWBWBWB\n",
      "BWBWBWBW\n",
      "1\n"
     ]
    }
   ],
   "source": [
    "#체스판 다시 칠하기 (나중에 다시 보기)\n",
    "y, x = map(int, input().split())\n",
    "\n",
    "result = []\n",
    "square = [['W', 'B', 'W', 'B', 'W', 'B', 'W', 'B'],\n",
    "          ['B', 'W', 'B', 'W', 'B', 'W', 'B', 'W'],\n",
    "          ['W', 'B', 'W', 'B', 'W', 'B', 'W', 'B'],\n",
    "          ['B', 'W', 'B', 'W', 'B', 'W', 'B', 'W'],\n",
    "          ['W', 'B', 'W', 'B', 'W', 'B', 'W', 'B'],\n",
    "          ['B', 'W', 'B', 'W', 'B', 'W', 'B', 'W'],\n",
    "          ['W', 'B', 'W', 'B', 'W', 'B', 'W', 'B'],\n",
    "          ['B', 'W', 'B', 'W', 'B', 'W', 'B', 'W']]\n",
    "chess = []\n",
    "\n",
    "for i in range(y):\n",
    "    chess.append([])\n",
    "    chess[i] = list(str(input()))\n",
    "\n",
    "for i in range(y-7):\n",
    "    for j in range(x-7):\n",
    "        count1 = 0\n",
    "        count2 = 0\n",
    "        for a in range(8):\n",
    "            for b in range(8):\n",
    "                if(square[a][b] != chess[a+i][b+j]):\n",
    "                    count1 += 1\n",
    "                else:\n",
    "                    count2 += 1\n",
    "        result.append(count1)\n",
    "        result.append(count2)\n",
    "\n",
    "print(min(result))"
   ]
  },
  {
   "cell_type": "code",
   "execution_count": 13,
   "id": "78fd0aa0",
   "metadata": {},
   "outputs": [
    {
     "name": "stdout",
     "output_type": "stream",
     "text": [
      "2\n",
      "1666\n"
     ]
    }
   ],
   "source": [
    "#영화감독 숌\n",
    "n = int(input())\n",
    "num = 666\n",
    "count = 0\n",
    "while True:\n",
    "    if ('666' in str(num)): #666이 들어가면 count 증가\n",
    "        count += 1\n",
    "        if(count == n): #count랑 입력받은 수가 같으면 종료\n",
    "            break\n",
    "    num += 1 #1씩 더해가면서 666 찾기\n",
    "print(num)"
   ]
  },
  {
   "cell_type": "code",
   "execution_count": null,
   "id": "da67e4ed",
   "metadata": {},
   "outputs": [],
   "source": []
  }
 ],
 "metadata": {
  "kernelspec": {
   "display_name": "Python 3 (ipykernel)",
   "language": "python",
   "name": "python3"
  },
  "language_info": {
   "codemirror_mode": {
    "name": "ipython",
    "version": 3
   },
   "file_extension": ".py",
   "mimetype": "text/x-python",
   "name": "python",
   "nbconvert_exporter": "python",
   "pygments_lexer": "ipython3",
   "version": "3.9.7"
  }
 },
 "nbformat": 4,
 "nbformat_minor": 5
}
