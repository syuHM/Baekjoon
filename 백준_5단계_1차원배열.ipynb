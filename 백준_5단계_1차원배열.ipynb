{
 "cells": [
  {
   "cell_type": "code",
   "execution_count": 2,
   "id": "082e2c79",
   "metadata": {},
   "outputs": [
    {
     "name": "stdout",
     "output_type": "stream",
     "text": [
      "4\n",
      "4 5 6 7\n",
      "4 7\n"
     ]
    }
   ],
   "source": [
    "#최소, 최대\n",
    "N = int(input())\n",
    "list_N = list(map(int, input().split()))\n",
    "print(min(list_N), max(list_N))"
   ]
  },
  {
   "cell_type": "code",
   "execution_count": 4,
   "id": "e3faa342",
   "metadata": {},
   "outputs": [
    {
     "name": "stdout",
     "output_type": "stream",
     "text": [
      "7\n",
      "5\n",
      "8\n",
      "54\n",
      "12\n",
      "62\n",
      "84\n",
      "95\n",
      "75\n",
      "95\n",
      "8\n"
     ]
    }
   ],
   "source": [
    "#최댓값\n",
    "num = []\n",
    "maxi = 0\n",
    "for i in range(0,9):\n",
    "    num.append(int(input()))\n",
    "    if num[i] > maxi:\n",
    "        maxi = num[i]\n",
    "        count = i + 1\n",
    "print(maxi)\n",
    "print(count)"
   ]
  },
  {
   "cell_type": "code",
   "execution_count": 3,
   "id": "1b4714ae",
   "metadata": {},
   "outputs": [
    {
     "name": "stdout",
     "output_type": "stream",
     "text": [
      "541\n",
      "657\n",
      "512\n",
      "0\n",
      "2\n",
      "0\n",
      "1\n",
      "2\n",
      "0\n",
      "0\n",
      "1\n",
      "2\n"
     ]
    }
   ],
   "source": [
    "#숫자의 개수\n",
    "A = int(input())\n",
    "B = int(input())\n",
    "C = int(input())\n",
    "num = list(str(A*B*C))\n",
    "\n",
    "for i in range(10):\n",
    "    print(num.count(str(i)))"
   ]
  },
  {
   "cell_type": "code",
   "execution_count": 6,
   "id": "c6767f04",
   "metadata": {},
   "outputs": [
    {
     "name": "stdout",
     "output_type": "stream",
     "text": [
      "1\n",
      "2\n",
      "4\n",
      "8\n",
      "7\n",
      "4\n",
      "51\n",
      "20\n",
      "45\n",
      "98\n",
      "9\n"
     ]
    }
   ],
   "source": [
    "#나머지\n",
    "num = []\n",
    "n = []\n",
    "for i in range(10):\n",
    "    num.append(int(input()))\n",
    "    n.append(num[i]%42)\n",
    "n = set(n)\n",
    "print(len(n))"
   ]
  },
  {
   "cell_type": "code",
   "execution_count": 17,
   "id": "2264239d",
   "metadata": {},
   "outputs": [
    {
     "name": "stdout",
     "output_type": "stream",
     "text": [
      "3\n",
      "40 80 60\n",
      "75.0\n"
     ]
    }
   ],
   "source": [
    "#평균\n",
    "n = int(input())\n",
    "score = list(map(int, input().split()))\n",
    "maxi = 0\n",
    "sum = 0\n",
    "for i in score:\n",
    "    if i > maxi:\n",
    "        maxi = i        \n",
    "for i in score:    \n",
    "    i = i/maxi*100\n",
    "    sum = sum + i\n",
    "print(sum/n)"
   ]
  },
  {
   "cell_type": "code",
   "execution_count": 22,
   "id": "fde3147c",
   "metadata": {},
   "outputs": [
    {
     "name": "stdout",
     "output_type": "stream",
     "text": [
      "3\n",
      "OXXX\n",
      "1\n",
      "OXOO\n",
      "4\n",
      "OXOOO\n",
      "7\n"
     ]
    }
   ],
   "source": [
    "#OX퀴즈\n",
    "N = int(input())\n",
    "for i in range(N):\n",
    "    score = 0\n",
    "    sum = 0\n",
    "    A = input()\n",
    "    for j in A:\n",
    "        if j == \"O\":\n",
    "            score += 1\n",
    "            sum += score\n",
    "        else:\n",
    "            score = 0\n",
    "    print(sum)"
   ]
  },
  {
   "cell_type": "code",
   "execution_count": 32,
   "id": "6c6f4d90",
   "metadata": {},
   "outputs": [
    {
     "name": "stdout",
     "output_type": "stream",
     "text": [
      "5\n",
      "2 50 40\n"
     ]
    },
    {
     "ename": "TypeError",
     "evalue": "'int' object is not callable",
     "output_type": "error",
     "traceback": [
      "\u001b[1;31m---------------------------------------------------------------------------\u001b[0m",
      "\u001b[1;31mTypeError\u001b[0m                                 Traceback (most recent call last)",
      "\u001b[1;32m<ipython-input-32-41c9009cf700>\u001b[0m in \u001b[0;36m<module>\u001b[1;34m\u001b[0m\n\u001b[0;32m      3\u001b[0m \u001b[1;32mfor\u001b[0m \u001b[0mi\u001b[0m \u001b[1;32min\u001b[0m \u001b[0mrange\u001b[0m\u001b[1;33m(\u001b[0m\u001b[0mC\u001b[0m\u001b[1;33m)\u001b[0m\u001b[1;33m:\u001b[0m\u001b[1;33m\u001b[0m\u001b[1;33m\u001b[0m\u001b[0m\n\u001b[0;32m      4\u001b[0m     \u001b[0mN\u001b[0m \u001b[1;33m=\u001b[0m \u001b[0mlist\u001b[0m\u001b[1;33m(\u001b[0m\u001b[0mmap\u001b[0m\u001b[1;33m(\u001b[0m\u001b[0mint\u001b[0m\u001b[1;33m,\u001b[0m \u001b[0minput\u001b[0m\u001b[1;33m(\u001b[0m\u001b[1;33m)\u001b[0m\u001b[1;33m.\u001b[0m\u001b[0msplit\u001b[0m\u001b[1;33m(\u001b[0m\u001b[1;33m)\u001b[0m\u001b[1;33m)\u001b[0m\u001b[1;33m)\u001b[0m\u001b[1;33m\u001b[0m\u001b[1;33m\u001b[0m\u001b[0m\n\u001b[1;32m----> 5\u001b[1;33m     \u001b[0mnum\u001b[0m \u001b[1;33m=\u001b[0m \u001b[0msum\u001b[0m\u001b[1;33m(\u001b[0m\u001b[0mN\u001b[0m\u001b[1;33m[\u001b[0m\u001b[1;36m1\u001b[0m\u001b[1;33m:\u001b[0m\u001b[1;33m]\u001b[0m\u001b[1;33m)\u001b[0m\u001b[1;33m/\u001b[0m\u001b[0mN\u001b[0m\u001b[1;33m[\u001b[0m\u001b[1;36m0\u001b[0m\u001b[1;33m]\u001b[0m\u001b[1;33m\u001b[0m\u001b[1;33m\u001b[0m\u001b[0m\n\u001b[0m\u001b[0;32m      6\u001b[0m     \u001b[0mstudent\u001b[0m \u001b[1;33m=\u001b[0m \u001b[1;36m0\u001b[0m\u001b[1;33m\u001b[0m\u001b[1;33m\u001b[0m\u001b[0m\n\u001b[0;32m      7\u001b[0m     \u001b[1;32mfor\u001b[0m \u001b[0mi\u001b[0m \u001b[1;32min\u001b[0m \u001b[0mN\u001b[0m\u001b[1;33m[\u001b[0m\u001b[1;36m1\u001b[0m\u001b[1;33m:\u001b[0m\u001b[1;33m]\u001b[0m\u001b[1;33m:\u001b[0m\u001b[1;33m\u001b[0m\u001b[1;33m\u001b[0m\u001b[0m\n",
      "\u001b[1;31mTypeError\u001b[0m: 'int' object is not callable"
     ]
    }
   ],
   "source": [
    "#평균은 넘겠지\n",
    "C = int(input())\n",
    "for i in range(C):\n",
    "    N = list(map(int, input().split()))\n",
    "    num = sum(N[1:])/N[0]\n",
    "    student = 0\n",
    "    for i in N[1:]:\n",
    "        if num < i:\n",
    "            student += 1\n",
    "    T = student/N[0]*100\n",
    "    print('%.3f' %T + \"%\")"
   ]
  },
  {
   "cell_type": "code",
   "execution_count": null,
   "id": "bb619062",
   "metadata": {},
   "outputs": [],
   "source": []
  },
  {
   "cell_type": "code",
   "execution_count": null,
   "id": "41449c99",
   "metadata": {},
   "outputs": [],
   "source": []
  }
 ],
 "metadata": {
  "kernelspec": {
   "display_name": "Python 3",
   "language": "python",
   "name": "python3"
  },
  "language_info": {
   "codemirror_mode": {
    "name": "ipython",
    "version": 3
   },
   "file_extension": ".py",
   "mimetype": "text/x-python",
   "name": "python",
   "nbconvert_exporter": "python",
   "pygments_lexer": "ipython3",
   "version": "3.8.8"
  }
 },
 "nbformat": 4,
 "nbformat_minor": 5
}
