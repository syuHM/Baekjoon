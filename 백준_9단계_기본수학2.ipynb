{
 "cells": [
  {
   "cell_type": "code",
   "execution_count": 12,
   "id": "6510db02",
   "metadata": {},
   "outputs": [
    {
     "name": "stdout",
     "output_type": "stream",
     "text": [
      "3\n",
      "2 8 7\n",
      "2\n"
     ]
    }
   ],
   "source": [
    "#소수찾기\n",
    "N = int(input())\n",
    "num = [*map(int, input().split())]\n",
    "prime = 0\n",
    "for i in num:\n",
    "    if i <= 1:\n",
    "        continue\n",
    "    condition = True\n",
    "    for j in range(2, i):\n",
    "        if i%j == 0: #나머지가 0이면 False\n",
    "            condition = False\n",
    "    if condition: #True이면 소수 개수에 하나 추가\n",
    "        prime += 1\n",
    "print(prime)"
   ]
  },
  {
   "cell_type": "code",
   "execution_count": 22,
   "id": "950fcf08",
   "metadata": {},
   "outputs": [
    {
     "name": "stdout",
     "output_type": "stream",
     "text": [
      "10\n",
      "20\n",
      "60\n",
      "11\n"
     ]
    }
   ],
   "source": [
    "#소수\n",
    "min_n = int(input())\n",
    "max_n = int(input())\n",
    "list_n = []\n",
    "list_prime = []\n",
    "sum = 0\n",
    "for i in range(min_n, max_n+1):\n",
    "    list_n.append(i)\n",
    "for j in list_n:\n",
    "    check = 0 # 소수인지 판별을 위한 변수 선언\n",
    "    if j >= 2:\n",
    "        for k in range(2, j):\n",
    "            if j % k == 0:\n",
    "                check = 1\n",
    "                break\n",
    "        if check == 0: #0이면 소수\n",
    "            list_prime.append(j)\n",
    "            sum += j\n",
    "if len(list_prime):          \n",
    "    print(sum)     \n",
    "    print(min(list_prime))\n",
    "else:                          \n",
    "    print(-1)        "
   ]
  },
  {
   "cell_type": "code",
   "execution_count": 1,
   "id": "cea1332f",
   "metadata": {},
   "outputs": [
    {
     "name": "stdout",
     "output_type": "stream",
     "text": [
      "42\n",
      "2\n",
      "3\n",
      "7\n"
     ]
    }
   ],
   "source": [
    "#소인수분해\n",
    "fac_n = int(input())\n",
    "while fac_n != 1:\n",
    "    for i in range(2, fac_n + 1):\n",
    "        if fac_n % i == 0: #i로 나누어떨어지면 i로 나눈 값을 저장\n",
    "            fac_n = fac_n // i\n",
    "            print(i)\n",
    "            break\n",
    "        else:\n",
    "            continue"
   ]
  },
  {
   "cell_type": "code",
   "execution_count": 27,
   "id": "8ed4cae7",
   "metadata": {},
   "outputs": [
    {
     "name": "stdout",
     "output_type": "stream",
     "text": [
      "10 20\n",
      "11\n",
      "13\n",
      "17\n",
      "19\n"
     ]
    }
   ],
   "source": [
    "#소수 구하기\n",
    "#시간초과 - 에라토스테네스의 체를 사용해야 함\n",
    "min_n, max_n = map(int, input().split())\n",
    "for i in range(min_n, max_n+1):\n",
    "    if i >= 2:\n",
    "        condition = True\n",
    "        for j in range(2, i):\n",
    "            if i % j == 0:\n",
    "                condition = False\n",
    "        if condition:\n",
    "            print(i)"
   ]
  },
  {
   "cell_type": "code",
   "execution_count": 33,
   "id": "8b321679",
   "metadata": {},
   "outputs": [
    {
     "name": "stdout",
     "output_type": "stream",
     "text": [
      "10 20\n",
      "11\n",
      "13\n",
      "17\n",
      "19\n"
     ]
    }
   ],
   "source": [
    "#소수 구하기\n",
    "def fac(n) :\n",
    "    if n == 1 : #1은 소수가 아님\n",
    "        return False\n",
    "    for i in range(2, int(n**0.5+1)) :\n",
    "        if n % i == 0 :\n",
    "            return False\n",
    "    return True\n",
    "min_n, max_n = map(int, input().split())\n",
    "for i in range(min_n, max_n+1) :\n",
    "    if fac(i):\n",
    "        print(i)"
   ]
  },
  {
   "cell_type": "code",
   "execution_count": 35,
   "id": "fe8dd997",
   "metadata": {},
   "outputs": [
    {
     "name": "stdout",
     "output_type": "stream",
     "text": [
      "13\n",
      "3\n",
      "100\n",
      "21\n",
      "1000\n",
      "135\n",
      "10000\n",
      "1033\n",
      "0\n"
     ]
    }
   ],
   "source": [
    "#베르트랑 공준\n",
    "#입력값을 받으면 그 숫자보다 작거나 같은 소수를 리스트에 저장해서 소수의 개수 세기\n",
    "def fac(n):    \n",
    "    a = [False,False] + [True]*(n-1)\n",
    "    prime=[]\n",
    "\n",
    "    for i in range(2,n+1):\n",
    "        if a[i]:\n",
    "            prime.append(i)\n",
    "        for j in range(2*i, n+1, i):\n",
    "            a[j] = False\n",
    "    return prime\n",
    "\n",
    "while True:\n",
    "    n = int(input())\n",
    "    min = len(fac(n))\n",
    "    max = len(fac(2*n))\n",
    "    if n == 0:\n",
    "        break\n",
    "    else:\n",
    "        print(max - min)"
   ]
  },
  {
   "cell_type": "code",
   "execution_count": 36,
   "id": "2cacc9c5",
   "metadata": {},
   "outputs": [
    {
     "name": "stdout",
     "output_type": "stream",
     "text": [
      "3\n",
      "8\n",
      "3 5\n",
      "10\n",
      "5 5\n",
      "16\n",
      "5 11\n"
     ]
    }
   ],
   "source": [
    "#골드바흐의 추측\n",
    "#수를 절반 나눠서 소수인지 검사\n",
    "#소수면 최초 입력받은 수에서 그 수를 빼서 소수인지 검사하고\n",
    "#아니라면 하나 빼줘서 소수인지 검사하는 것을 반복하여 \n",
    "#결국은 소수+소수 일 때 까지 검사하는 방법\n",
    "def fac(n):\n",
    "    if n < 2:                         \n",
    "        return False\n",
    "    for i in range(2,int(n**0.5)+1): #매개변수의 제곱근까지 돌면서 나눠어 떨어지는지\n",
    "        if n % i == 0:  \n",
    "            return False\n",
    "    return True\n",
    "T = int(input())\n",
    "for _ in range(T):\n",
    "    num = int(input())\n",
    "    for i in range(num//2, 1, -1):  #소수의 차이가 작은거부터 출력하기 위해 입력받은 수의 절반부터 역순으로 체크\n",
    "        if fac(i) and fac(num-i): # 만약 i와 입력 받은 수 - i가 소수면 출력\n",
    "            print(i, num-i)         \n",
    "            break"
   ]
  },
  {
   "cell_type": "code",
   "execution_count": 43,
   "id": "ffc5c25e",
   "metadata": {
    "scrolled": true
   },
   "outputs": [
    {
     "name": "stdout",
     "output_type": "stream",
     "text": [
      "1 1 5 5\n"
     ]
    },
    {
     "ename": "TypeError",
     "evalue": "'int' object is not callable",
     "output_type": "error",
     "traceback": [
      "\u001b[1;31m---------------------------------------------------------------------------\u001b[0m",
      "\u001b[1;31mTypeError\u001b[0m                                 Traceback (most recent call last)",
      "\u001b[1;32m<ipython-input-43-92021b74f5f4>\u001b[0m in \u001b[0;36m<module>\u001b[1;34m\u001b[0m\n\u001b[0;32m      2\u001b[0m \u001b[1;31m#직사각형의 경계선까지 가는 거리의 최솟값\u001b[0m\u001b[1;33m\u001b[0m\u001b[1;33m\u001b[0m\u001b[1;33m\u001b[0m\u001b[0m\n\u001b[0;32m      3\u001b[0m \u001b[0mx\u001b[0m\u001b[1;33m,\u001b[0m \u001b[0my\u001b[0m\u001b[1;33m,\u001b[0m \u001b[0mwi\u001b[0m\u001b[1;33m,\u001b[0m \u001b[0mhi\u001b[0m \u001b[1;33m=\u001b[0m \u001b[0mlist\u001b[0m\u001b[1;33m(\u001b[0m\u001b[0mmap\u001b[0m\u001b[1;33m(\u001b[0m\u001b[0mint\u001b[0m\u001b[1;33m,\u001b[0m \u001b[0minput\u001b[0m\u001b[1;33m(\u001b[0m\u001b[1;33m)\u001b[0m\u001b[1;33m.\u001b[0m\u001b[0msplit\u001b[0m\u001b[1;33m(\u001b[0m\u001b[1;33m)\u001b[0m\u001b[1;33m)\u001b[0m\u001b[1;33m)\u001b[0m\u001b[1;33m\u001b[0m\u001b[1;33m\u001b[0m\u001b[0m\n\u001b[1;32m----> 4\u001b[1;33m \u001b[0msqu\u001b[0m \u001b[1;33m=\u001b[0m \u001b[0mmin\u001b[0m\u001b[1;33m(\u001b[0m\u001b[0mx\u001b[0m\u001b[1;33m,\u001b[0m \u001b[0my\u001b[0m\u001b[1;33m,\u001b[0m \u001b[0mwi\u001b[0m\u001b[1;33m-\u001b[0m\u001b[0mx\u001b[0m\u001b[1;33m,\u001b[0m \u001b[0mhi\u001b[0m\u001b[1;33m-\u001b[0m\u001b[0my\u001b[0m\u001b[1;33m)\u001b[0m\u001b[1;33m\u001b[0m\u001b[1;33m\u001b[0m\u001b[0m\n\u001b[0m\u001b[0;32m      5\u001b[0m \u001b[0mprint\u001b[0m\u001b[1;33m(\u001b[0m\u001b[0msqu\u001b[0m\u001b[1;33m)\u001b[0m\u001b[1;33m\u001b[0m\u001b[1;33m\u001b[0m\u001b[0m\n",
      "\u001b[1;31mTypeError\u001b[0m: 'int' object is not callable"
     ]
    }
   ],
   "source": [
    "#직사각형에서 탈출\n",
    "#직사각형의 경계선까지 가는 거리의 최솟값\n",
    "x, y, w, h = list(map(int, input().split()))\n",
    "squ = min(x, y, w-x, h-y)\n",
    "print(squ)"
   ]
  },
  {
   "cell_type": "code",
   "execution_count": 44,
   "id": "428fcf9a",
   "metadata": {},
   "outputs": [
    {
     "name": "stdout",
     "output_type": "stream",
     "text": [
      "5 5\n",
      "5 7\n",
      "7 5\n",
      "7 7\n"
     ]
    }
   ],
   "source": [
    "#네번째 점\n",
    "#직사각형의 특성을 이용해 x좌표값과 y좌표값이 2번 같게 나와야 하는 점을 이용\n",
    "a = list(map(int, input().split()))  \n",
    "b = list(map(int, input().split())) \n",
    "c = list(map(int, input().split())) \n",
    "if a[0] == b[0]:   \n",
    "    x = c[0]       \n",
    "elif a[0] == c[0]:            \n",
    "    x = b[0]\n",
    "else:\n",
    "    x = a[0]\n",
    "if a[1] == b[1]:\n",
    "    y = c[1]\n",
    "elif a[1] == c[1]:\n",
    "    y = b[1]\n",
    "else:\n",
    "    y = a[1]\n",
    "print(x,y)"
   ]
  },
  {
   "cell_type": "code",
   "execution_count": 45,
   "id": "b1aa2a8b",
   "metadata": {},
   "outputs": [
    {
     "name": "stdout",
     "output_type": "stream",
     "text": [
      "6 8 10\n",
      "right\n",
      "25 52 60\n",
      "wrong\n",
      "5 12 13\n",
      "right\n",
      "0 0 0\n"
     ]
    }
   ],
   "source": [
    "#직사각형\n",
    "while True:\n",
    "    x, y, z = map(int, input().split())\n",
    "    if x == 0 and y == 0 and z == 0:\n",
    "        break\n",
    "    elif x**2 + y**2 == z**2 or x**2 + z**2 == y**2 or y**2 + z**2 == x**2:\n",
    "        print(\"right\")\n",
    "    else:\n",
    "        print(\"wrong\")"
   ]
  },
  {
   "cell_type": "code",
   "execution_count": 46,
   "id": "7d16f9d5",
   "metadata": {},
   "outputs": [
    {
     "name": "stdout",
     "output_type": "stream",
     "text": [
      "21\n",
      "1385.44236\n",
      "882.0\n"
     ]
    }
   ],
   "source": [
    "#택시 기하학\n",
    "#유클리드 기하학 = pi X r^2 // 원주율 곱하기 반지름의 제곱\n",
    "#택시 기하학 = r^2 X 2  // 반지름 제곱 곱하기 2\n",
    "n = float(input())         \n",
    "pi = 3.141592653589       \n",
    "print(round(pi*(n**2),6))    # round함수를 이용해 여섯째 자리까지 출력(유클리드 기하학 공식)\n",
    "print(round((n**2)*2,6))     # round함수를 이용해 여섯째 자리까지 출력(택시 기하학 공식)"
   ]
  },
  {
   "cell_type": "code",
   "execution_count": 47,
   "id": "9b9ad0ed",
   "metadata": {},
   "outputs": [
    {
     "name": "stdout",
     "output_type": "stream",
     "text": [
      "3\n",
      "0 0 13 40 0 37\n",
      "2\n",
      "0 0 3 0 7 4\n",
      "1\n",
      "1 1 1 1 1 5\n",
      "0\n"
     ]
    }
   ],
   "source": [
    "#터렛\n",
    "#두 원의 교점의 개수 구하기\n",
    "import math\n",
    "T = int(input())\n",
    "for i in range(T):\n",
    "    x1, y1, r1, x2, y2, r2 = map(int, input().split())\n",
    "    d = math.dist((x1, y1), (x2, y2))\n",
    "    if d == 0 and r1 == r2: # 두 원이 일치하는 경우\n",
    "        print(-1)\n",
    "    elif d > r1 + r2 or d < abs(r1 - r2): # 두 원이 안 만나는 경우\n",
    "        print(0)\n",
    "    elif d == r1 + r2 or d == abs(r1 - r2): # 두 원이 접하는 경우(외접, 내접)\n",
    "        print(1)\n",
    "    elif d < r1 + r2 : # 두 원이 두점에서 만나는 경우\n",
    "        print(2)"
   ]
  }
 ],
 "metadata": {
  "kernelspec": {
   "display_name": "Python 3",
   "language": "python",
   "name": "python3"
  },
  "language_info": {
   "codemirror_mode": {
    "name": "ipython",
    "version": 3
   },
   "file_extension": ".py",
   "mimetype": "text/x-python",
   "name": "python",
   "nbconvert_exporter": "python",
   "pygments_lexer": "ipython3",
   "version": "3.8.8"
  }
 },
 "nbformat": 4,
 "nbformat_minor": 5
}
