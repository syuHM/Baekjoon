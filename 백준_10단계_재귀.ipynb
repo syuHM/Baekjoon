{
 "cells": [
  {
   "cell_type": "code",
   "execution_count": 2,
   "id": "bea2e813",
   "metadata": {},
   "outputs": [],
   "source": [
    "#재귀호출 : 함수 안에서 함수 자기자신을 호출하는 방식\n",
    "#반드시 종료 조건을 만들어주어야 함."
   ]
  },
  {
   "cell_type": "code",
   "execution_count": 3,
   "id": "6196d262",
   "metadata": {},
   "outputs": [
    {
     "name": "stdout",
     "output_type": "stream",
     "text": [
      "5\n",
      "120\n"
     ]
    }
   ],
   "source": [
    "#팩토리얼\n",
    "def factorial(n):\n",
    "    sum = 1\n",
    "    if n > 0 :\n",
    "        sum = n * factorial(n-1)\n",
    "    return sum\n",
    "\n",
    "n = int(input())\n",
    "print(factorial(n))"
   ]
  },
  {
   "cell_type": "code",
   "execution_count": 4,
   "id": "25c67a85",
   "metadata": {},
   "outputs": [
    {
     "name": "stdout",
     "output_type": "stream",
     "text": [
      "7\n",
      "13\n"
     ]
    }
   ],
   "source": [
    "#피보나치 수 5\n",
    "def fibo(num):\n",
    "    if num == 0: #0번째 : 0\n",
    "        return 0\n",
    "    elif num == 1: #1번째 : 1\n",
    "        return 1\n",
    "    return fibo(num-1) + fibo(num-2) #앞과 그 앞 숫자를 더해서 반환\n",
    "n = int(input())\n",
    "print(fibo(n))"
   ]
  },
  {
   "cell_type": "code",
   "execution_count": 9,
   "id": "28c9a25c",
   "metadata": {},
   "outputs": [
    {
     "name": "stdout",
     "output_type": "stream",
     "text": [
      "27\n",
      "***************************\n",
      "* ** ** ** ** ** ** ** ** *\n",
      "***************************\n",
      "***   ******   ******   ***\n",
      "* *   * ** *   * ** *   * *\n",
      "***   ******   ******   ***\n",
      "***************************\n",
      "* ** ** ** ** ** ** ** ** *\n",
      "***************************\n",
      "*********         *********\n",
      "* ** ** *         * ** ** *\n",
      "*********         *********\n",
      "***   ***         ***   ***\n",
      "* *   * *         * *   * *\n",
      "***   ***         ***   ***\n",
      "*********         *********\n",
      "* ** ** *         * ** ** *\n",
      "*********         *********\n",
      "***************************\n",
      "* ** ** ** ** ** ** ** ** *\n",
      "***************************\n",
      "***   ******   ******   ***\n",
      "* *   * ** *   * ** *   * *\n",
      "***   ******   ******   ***\n",
      "***************************\n",
      "* ** ** ** ** ** ** ** ** *\n",
      "***************************\n"
     ]
    }
   ],
   "source": [
    "#별 찍기 - 10\n",
    "#N이 3보다 클 경우, 크기 N의 패턴은 공백으로 채워진 가운데의 (N/3)×(N/3) 정사각형을 크기 N/3의 패턴으로 둘러싼 형태\n",
    "def star(n, a_list):\n",
    "    if n == 3:\n",
    "        a_list.append([\"***\"])\n",
    "        a_list.append([\"* *\"])\n",
    "        a_list.append([\"***\"])\n",
    "        return a_list\n",
    "    else:\n",
    "        b = star(n//3, a_list) * 3\n",
    "        \n",
    "        for i in range(len(b)):\n",
    "            if i in list(range(n//3, n-n//3)): #공백 출력\n",
    "                b[i] = b[i] + [\" \"]*(n//3) +b[i]\n",
    "            else:\n",
    "                b[i] = b[i]*3 #별의 개수  \n",
    "        return b\n",
    "star_list = []\n",
    "N = int(input())\n",
    "a = star(N, star_list)\n",
    "for i in range(len(a)):\n",
    "    print(\"\".join(a[i]))"
   ]
  },
  {
   "cell_type": "code",
   "execution_count": 10,
   "id": "d3e5f73b",
   "metadata": {},
   "outputs": [
    {
     "name": "stdout",
     "output_type": "stream",
     "text": [
      "3\n",
      "7\n",
      "1 3\n",
      "1 2\n",
      "3 2\n",
      "1 3\n",
      "2 1\n",
      "2 3\n",
      "1 3\n"
     ]
    }
   ],
   "source": [
    "#하노이 탑 이동순서\n",
    "#num = 원판 개수, a = start, b = to, c = end\n",
    "#a,b,c 파라미터의 위치 = 기둥의 위치\n",
    "def hanoi(num, a, b, c):\n",
    "    if(num == 1):\n",
    "        print(a, c)\n",
    "    else:\n",
    "        hanoi(num-1, a, c, b)\n",
    "        print(a, c)\n",
    "        hanoi(num-1, b, a, c)\n",
    "\n",
    "num = int(input())\n",
    "print((2**num)-1) #이동횟수\n",
    "hanoi(num,1,2,3)"
   ]
  }
 ],
 "metadata": {
  "kernelspec": {
   "display_name": "Python 3",
   "language": "python",
   "name": "python3"
  },
  "language_info": {
   "codemirror_mode": {
    "name": "ipython",
    "version": 3
   },
   "file_extension": ".py",
   "mimetype": "text/x-python",
   "name": "python",
   "nbconvert_exporter": "python",
   "pygments_lexer": "ipython3",
   "version": "3.8.8"
  }
 },
 "nbformat": 4,
 "nbformat_minor": 5
}
