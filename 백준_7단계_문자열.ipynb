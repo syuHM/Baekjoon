{
 "cells": [
  {
   "cell_type": "code",
   "execution_count": 1,
   "id": "471dcafb",
   "metadata": {},
   "outputs": [
    {
     "name": "stdout",
     "output_type": "stream",
     "text": [
      "A\n",
      "65\n"
     ]
    }
   ],
   "source": [
    "#아스키 코드\n",
    "n = input()\n",
    "print(ord(n)) # ord : 아스키 코드를 출력하는 함수"
   ]
  },
  {
   "cell_type": "code",
   "execution_count": 6,
   "id": "a03f4e76",
   "metadata": {},
   "outputs": [
    {
     "name": "stdout",
     "output_type": "stream",
     "text": [
      "5417\n",
      "17\n"
     ]
    }
   ],
   "source": [
    "#숫자의 합\n",
    "N = input()\n",
    "num_N = input()\n",
    "sum = 0\n",
    "for i in num_N:\n",
    "    sum += int(i)\n",
    "print(sum)"
   ]
  },
  {
   "cell_type": "code",
   "execution_count": 7,
   "id": "10ed0bd8",
   "metadata": {},
   "outputs": [
    {
     "name": "stdout",
     "output_type": "stream",
     "text": [
      "baekjoon\n",
      "1 0 -1 -1 2 -1 -1 -1 -1 4 3 -1 -1 7 5 -1 -1 -1 -1 -1 -1 -1 -1 -1 -1 -1 "
     ]
    }
   ],
   "source": [
    "#알파벳 찾기\n",
    "S = input()\n",
    "alphabet = [-1]*26 #포함되지 않았을 때의 기본값 -1로 저장해둠,\n",
    "for i in range(len(S)):\n",
    "    if alphabet[ord(S[i])-ord('a')] == -1: #단어에 포함되어 있지 않을 경우\n",
    "        alphabet[ord(S[i])-ord('a')] += (i+1) #위치 더하기 (기본값이 -1이므로 i+1)\n",
    "for i in range(26):\n",
    "    print(alphabet[i], end=' ')"
   ]
  },
  {
   "cell_type": "code",
   "execution_count": 9,
   "id": "242773cd",
   "metadata": {},
   "outputs": [
    {
     "name": "stdout",
     "output_type": "stream",
     "text": [
      "2\n",
      "3 abd\n",
      "aaabbbddd5 eordv\n",
      "eeeeeooooorrrrrdddddvvvvv"
     ]
    }
   ],
   "source": [
    "#문자열 반복\n",
    "T = int(input())\n",
    "for i in range(T):\n",
    "    case = input().split()\n",
    "    R = case[0]\n",
    "    S = case[1]\n",
    "    for j in range(len(S)):\n",
    "        print(S[j] * int(R),end = '')\n",
    "    print()"
   ]
  },
  {
   "cell_type": "code",
   "execution_count": 16,
   "id": "9105fc07",
   "metadata": {},
   "outputs": [
    {
     "name": "stdout",
     "output_type": "stream",
     "text": [
      "etttt\n",
      "T\n"
     ]
    }
   ],
   "source": [
    "#단어 공부\n",
    "word = input().lower() #lower() : 문자열을 소문자로 변경하는 함수\n",
    "list_word = list(set(word)) #set : 리스트 중복 값 제거\n",
    "count_word = []\n",
    "\n",
    "for i in list_word:\n",
    "    count_word.append(word.count(i))\n",
    "    \n",
    "if count_word.count(max(count_word)) >= 2:\n",
    "    print(\"?\")\n",
    "else:\n",
    "    print(list_word[count_word.index(max(count_word))].upper()) #upper() : 문자열을 대문자로 변경하는 함수"
   ]
  },
  {
   "cell_type": "code",
   "execution_count": 18,
   "id": "d7d50fbc",
   "metadata": {},
   "outputs": [
    {
     "name": "stdout",
     "output_type": "stream",
     "text": [
      "hello sparta\n",
      "2\n"
     ]
    }
   ],
   "source": [
    "#단어의 개수\n",
    "word = input().split()\n",
    "print(len(word))"
   ]
  },
  {
   "cell_type": "code",
   "execution_count": 21,
   "id": "a47b0ede",
   "metadata": {},
   "outputs": [
    {
     "name": "stdout",
     "output_type": "stream",
     "text": [
      "839 237\n",
      "938\n"
     ]
    }
   ],
   "source": [
    "#상수\n",
    "a, b = map(str, input().split())\n",
    "list_a = list(a)\n",
    "list_b = list(b)\n",
    "a = int(list_a[2]+list_a[1]+list_a[0])\n",
    "b = int(list_b[2]+list_b[1]+list_b[0])\n",
    "print(max(a, b))"
   ]
  },
  {
   "cell_type": "code",
   "execution_count": 22,
   "id": "aa4aaf4a",
   "metadata": {},
   "outputs": [
    {
     "name": "stdout",
     "output_type": "stream",
     "text": [
      "WA\n",
      "13\n"
     ]
    }
   ],
   "source": [
    "#다이얼\n",
    "dial_list = ['ABC', 'DEF', 'GHI', 'JKL', 'MNO', 'PQRS', 'TUV', 'WXYZ']\n",
    "word = input()\n",
    "time = 0\n",
    "for i in range(len(word)):\n",
    "    for j in dial_list:\n",
    "        if word[i] in j:\n",
    "            time += dial_list.index(j)+3 #'ABC'까지 돌리는 시간이 3초라 해당 인덱스에 3을 더함.\n",
    "print(time)"
   ]
  },
  {
   "cell_type": "code",
   "execution_count": 29,
   "id": "f7e3b78b",
   "metadata": {},
   "outputs": [
    {
     "name": "stdout",
     "output_type": "stream",
     "text": [
      "ljes=njak\n",
      "6\n"
     ]
    }
   ],
   "source": [
    "#크로아티아 알파벳\n",
    "alpha = input()\n",
    "crobatia = ['c=', 'c-', 'dz=', 'd-', 'lj', 'nj', 's=', 'z=']\n",
    "for i in crobatia:\n",
    "    alpha = alpha.replace(i, 'A') #replace함수를 이용해 크로아티아 알파벳을 n으로 변경한 후 길이 출력\n",
    "print(len(alpha))"
   ]
  },
  {
   "cell_type": "code",
   "execution_count": 1,
   "id": "aef97186",
   "metadata": {},
   "outputs": [
    {
     "name": "stdout",
     "output_type": "stream",
     "text": [
      "3\n",
      "happy\n",
      "new\n",
      "year\n",
      "3\n"
     ]
    }
   ],
   "source": [
    "#그룹 단어 체커\n",
    "N = int(input())\n",
    "result = N\n",
    "for i in range(N):\n",
    "    word = input()\n",
    "    for j in range(len(word)-1):\n",
    "        if word[j] == word[j+1]: #앞문자와 뒷문자가 같을 경우 pass\n",
    "            pass\n",
    "        elif word[j] in word[j+1:]: #앞문자가 뒷문자들중에 있으면 result -1\n",
    "            result = result - 1\n",
    "            break\n",
    "print(result)"
   ]
  },
  {
   "cell_type": "code",
   "execution_count": null,
   "id": "9a7ccaeb",
   "metadata": {},
   "outputs": [],
   "source": []
  },
  {
   "cell_type": "code",
   "execution_count": null,
   "id": "9d149114",
   "metadata": {},
   "outputs": [],
   "source": []
  },
  {
   "cell_type": "code",
   "execution_count": null,
   "id": "959191cb",
   "metadata": {},
   "outputs": [],
   "source": []
  },
  {
   "cell_type": "code",
   "execution_count": null,
   "id": "1964c8d5",
   "metadata": {},
   "outputs": [],
   "source": []
  },
  {
   "cell_type": "code",
   "execution_count": null,
   "id": "16223def",
   "metadata": {},
   "outputs": [],
   "source": []
  }
 ],
 "metadata": {
  "kernelspec": {
   "display_name": "Python 3",
   "language": "python",
   "name": "python3"
  },
  "language_info": {
   "codemirror_mode": {
    "name": "ipython",
    "version": 3
   },
   "file_extension": ".py",
   "mimetype": "text/x-python",
   "name": "python",
   "nbconvert_exporter": "python",
   "pygments_lexer": "ipython3",
   "version": "3.8.8"
  }
 },
 "nbformat": 4,
 "nbformat_minor": 5
}
